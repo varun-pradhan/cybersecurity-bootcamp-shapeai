{
  "nbformat": 4,
  "nbformat_minor": 0,
  "metadata": {
    "colab": {
      "name": "Varun_Pradhan_Cyber_security_project.ipynb",
      "provenance": [],
      "toc_visible": true,
      "authorship_tag": "ABX9TyOxMrlR1QffFERHKSK/jHQR",
      "include_colab_link": true
    },
    "kernelspec": {
      "name": "python3",
      "display_name": "Python 3"
    },
    "language_info": {
      "name": "python"
    }
  },
  "cells": [
    {
      "cell_type": "markdown",
      "metadata": {
        "id": "view-in-github",
        "colab_type": "text"
      },
      "source": [
        "<a href=\"https://colab.research.google.com/github/varun-pradhan/cybersecurity-bootcamp-shapeai/blob/main/Varun_Pradhan_Cyber_security_project.ipynb\" target=\"_parent\"><img src=\"https://colab.research.google.com/assets/colab-badge.svg\" alt=\"Open In Colab\"/></a>"
      ]
    },
    {
      "cell_type": "code",
      "metadata": {
        "colab": {
          "base_uri": "https://localhost:8080/"
        },
        "id": "VH2vJbFJR4fY",
        "outputId": "12e5fbf9-07f5-449a-a70b-d96575e5f141"
      },
      "source": [
        "import requests\n",
        "#import os\n",
        "from datetime import datetime\n",
        "\n",
        "api_key = 'e0b4ae1d11b202140a50eccca26ba71a'\n",
        "city = input(\"Enter The city:\")\n",
        "\n",
        "api_link =\"https://api.openweathermap.org/data/2.5/weather?q=\"+city+\"&appid=\"+api_key\n",
        "api_link= requests.get(api_link)\n",
        "api_data = api_link.json()\n",
        "\n",
        "temp_city =((api_data['main']['temp'])-273.15)\n",
        "weather_description = api_data['weather'][0]['description']\n",
        "humid = api_data['main']['humidity']\n",
        "wind_speed = api_data['wind']['speed']\n",
        "date_time = datetime.now().strftime(\"%d %b %Y | %I:%M:%S %p\")\n",
        "\n",
        "print (\"-------------------------------------------------------------\")\n",
        "print (\"Weather Stats for - {}  || {}\".format(location.upper(), date_time))\n",
        "print (\"-------------------------------------------------------------\")\n",
        "print (\"Current temperature is: {:.2f} deg C\".format(temp_city))\n",
        "print (\"Current weather desc  :\",weather_description)\n",
        "print (\"Current Humidity      :\",humid, '%')\n",
        "print (\"Current wind speed    :\",wind_speed ,'kmph')\n",
        "\n",
        "print(\"====================================================\")\n",
        "\n",
        "txtlist = [temp_city,weather_description,humid,wind_speed,date_time]\n",
        "\n",
        "with open(\"textfile.txt\" , mode= 'w' ,encoding= 'utf-8') as f :     \n",
        "                                     \n",
        "    f.write(\"------------------------------------------------------------- \\n \")   \n",
        "    f.write(\"Weather Stats for - {}  || {}\".format(location.upper(), date_time))\n",
        "    f.write(\"\\n ------------------------------------------------------------- \\n\")\n",
        "    f.write(\"Current temperature is: {:.2f} deg C\\n\".format(txtlist[0]))\n",
        "    \n",
        "    f.write(\"{},{} \\n\".format(\"Current weather desc  :\" ,txtlist[1]))\n",
        "    f.write(\"{},{},{} \\n\".format(\"Current Humidity      :\",txtlist[2],\"%\"))\n",
        "    f.write(\"{},{},{} \\n\".format(\"Current wind speed    :\",txtlist[3],\"kmph\"))\n",
        "    f.write(\"====================================================\")\n"
      ],
      "execution_count": 28,
      "outputs": [
        {
          "output_type": "stream",
          "text": [
            "Enter The city:pune\n",
            "-------------------------------------------------------------\n",
            "Weather Stats for - PUNE  || 28 Jul 2021 | 02:35:08 PM\n",
            "-------------------------------------------------------------\n",
            "Current temperature is: 23.15 deg C\n",
            "Current weather desc  : overcast clouds\n",
            "Current Humidity      : 85 %\n",
            "Current wind speed    : 6.99 kmph\n",
            "====================================================\n"
          ],
          "name": "stdout"
        }
      ]
    }
  ]
}